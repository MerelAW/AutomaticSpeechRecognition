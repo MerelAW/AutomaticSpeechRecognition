{
 "cells": [
  {
   "cell_type": "code",
   "execution_count": 1,
   "metadata": {},
   "outputs": [],
   "source": [
    "from scipy.signal import spectrogram\n",
    "import os\n",
    "from scipy.io import wavfile\n",
    "from matplotlib import pyplot as plt\n",
    "import stft\n",
    "import matplotlib"
   ]
  },
  {
   "cell_type": "code",
   "execution_count": 2,
   "metadata": {},
   "outputs": [],
   "source": [
    "directory = \"./TIMIT2/\" # Where the .wav files are located\n",
    "images = \"./SPECTROGRAMS/\" # Where the images should be saved"
   ]
  },
  {
   "cell_type": "code",
   "execution_count": 3,
   "metadata": {},
   "outputs": [],
   "source": [
    "filenames=[]\n",
    "for filename in os.listdir(directory):\n",
    "    filenames.append(filename)"
   ]
  },
  {
   "cell_type": "code",
   "execution_count": null,
   "metadata": {},
   "outputs": [],
   "source": [
    "for f in range(len(filenames)):\n",
    "    sample_rate, samples = wavfile.read(directory+filenames[f])\n",
    "    \n",
    "    ax = plt.axes([0, 0, 1, 1], frameon=False)\n",
    "    ax.get_xaxis().set_visible(False)\n",
    "    ax.get_yaxis().set_visible(False)\n",
    "    \n",
    "    spec = plt.specgram(samples,  Fs=sample_rate)\n",
    "    \n",
    "    filename = os.path.splitext(filenames[f])[0]\n",
    "    \n",
    "    plt.savefig(images+filename, pad_inches=0.0, bbox_inches=\"tight\")\n",
    "    \n",
    "    plt.clf()\n",
    "    plt.close()"
   ]
  }
 ],
 "metadata": {
  "kernelspec": {
   "display_name": "Python 3",
   "language": "python",
   "name": "python3"
  },
  "language_info": {
   "codemirror_mode": {
    "name": "ipython",
    "version": 3
   },
   "file_extension": ".py",
   "mimetype": "text/x-python",
   "name": "python",
   "nbconvert_exporter": "python",
   "pygments_lexer": "ipython3",
   "version": "3.7.6"
  }
 },
 "nbformat": 4,
 "nbformat_minor": 2
}
